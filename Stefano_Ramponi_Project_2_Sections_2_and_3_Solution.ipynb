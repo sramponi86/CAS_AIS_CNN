{
 "cells": [
  {
   "cell_type": "markdown",
   "metadata": {},
   "source": [
    "# Project 2 Section 2\n",
    "Importing the C/D dataset and defining the train and validation dataset"
   ]
  },
  {
   "cell_type": "code",
   "execution_count": 1,
   "metadata": {},
   "outputs": [
    {
     "name": "stdout",
     "output_type": "stream",
     "text": [
      "WARNING:tensorflow:From C:\\Users\\diabomba\\anaconda3\\envs\\ETH_CAS_AIS_2024\\Lib\\site-packages\\keras\\src\\losses.py:2976: The name tf.losses.sparse_softmax_cross_entropy is deprecated. Please use tf.compat.v1.losses.sparse_softmax_cross_entropy instead.\n",
      "\n"
     ]
    }
   ],
   "source": [
    "import tensorflow as tf\n",
    "import os\n",
    "\n",
    "# Download the cats & dogs file from a URL with tf.keras.utils.get_file() method\n",
    "_URL = 'https://storage.googleapis.com/mledu-datasets/cats_and_dogs_filtered.zip'\n",
    "\n",
    "# get the directory of the file with the os.path.dirname() method, which is /root/keras/datasets\n",
    "zip_file = tf.keras.utils.get_file('cats_and_dogs.zip', origin=_URL, extract=True)\n",
    "\n",
    "#combine the paths of the file into one PATH by using the os.path.join() method\n",
    "PATH = os.path.join(os.path.dirname(zip_file), 'cats_and_dogs_filtered')\n",
    "\n",
    "train_dir = os.path.join(PATH, 'train')\n",
    "validation_dir = os.path.join(PATH, 'validation')"
   ]
  },
  {
   "cell_type": "code",
   "execution_count": 2,
   "metadata": {},
   "outputs": [],
   "source": [
    "from tensorflow.keras.preprocessing import image_dataset_from_directory\n",
    "\n",
    "BATCH_SIZE = 32\n",
    "IMAGE_SIZE = (224, 224)"
   ]
  },
  {
   "cell_type": "code",
   "execution_count": 3,
   "metadata": {},
   "outputs": [
    {
     "name": "stdout",
     "output_type": "stream",
     "text": [
      "Found 2000 files belonging to 2 classes.\n",
      "Using 1400 files for training.\n"
     ]
    }
   ],
   "source": [
    "train_dataset = tf.keras.utils.image_dataset_from_directory(train_dir,\n",
    "                                             validation_split=0.3,\n",
    "                                             subset=\"training\",\n",
    "                                             seed = 123,\n",
    "                                             shuffle=True,\n",
    "                                             batch_size=BATCH_SIZE,\n",
    "                                             image_size=IMAGE_SIZE)"
   ]
  },
  {
   "cell_type": "code",
   "execution_count": 4,
   "metadata": {},
   "outputs": [
    {
     "name": "stdout",
     "output_type": "stream",
     "text": [
      "Found 1000 files belonging to 2 classes.\n",
      "Using 300 files for validation.\n"
     ]
    }
   ],
   "source": [
    "validation_dataset = tf.keras.utils.image_dataset_from_directory(validation_dir,\n",
    "                                             validation_split=0.3,\n",
    "                                             subset=\"validation\",\n",
    "                                             seed = 123,\n",
    "                                             shuffle=True,\n",
    "                                             batch_size=BATCH_SIZE,\n",
    "                                             image_size=IMAGE_SIZE)"
   ]
  },
  {
   "cell_type": "markdown",
   "metadata": {},
   "source": [
    "Check classes names"
   ]
  },
  {
   "cell_type": "code",
   "execution_count": 5,
   "metadata": {},
   "outputs": [
    {
     "name": "stdout",
     "output_type": "stream",
     "text": [
      "['cats', 'dogs']\n"
     ]
    }
   ],
   "source": [
    "class_names = train_dataset.class_names\n",
    "print(class_names)"
   ]
  },
  {
   "cell_type": "markdown",
   "metadata": {},
   "source": [
    "# Import 2 different pre trained convolutional base models\n",
    "to be then connected to the fully connected classifier"
   ]
  },
  {
   "cell_type": "code",
   "execution_count": 6,
   "metadata": {},
   "outputs": [
    {
     "name": "stdout",
     "output_type": "stream",
     "text": [
      "WARNING:tensorflow:From C:\\Users\\diabomba\\anaconda3\\envs\\ETH_CAS_AIS_2024\\Lib\\site-packages\\keras\\src\\backend.py:1398: The name tf.executing_eagerly_outside_functions is deprecated. Please use tf.compat.v1.executing_eagerly_outside_functions instead.\n",
      "\n",
      "WARNING:tensorflow:From C:\\Users\\diabomba\\anaconda3\\envs\\ETH_CAS_AIS_2024\\Lib\\site-packages\\keras\\src\\layers\\normalization\\batch_normalization.py:979: The name tf.nn.fused_batch_norm is deprecated. Please use tf.compat.v1.nn.fused_batch_norm instead.\n",
      "\n"
     ]
    }
   ],
   "source": [
    "inception_model = tf.keras.applications.InceptionV3(input_shape=(224, 224, 3),\n",
    "                                               include_top=False,\n",
    "                                               weights='imagenet')"
   ]
  },
  {
   "cell_type": "code",
   "execution_count": 7,
   "metadata": {},
   "outputs": [],
   "source": [
    "resnet_model = tf.keras.applications.ResNet50(input_shape=(224, 224, 3),\n",
    "                                               include_top=False,\n",
    "                                               weights='imagenet')"
   ]
  },
  {
   "cell_type": "markdown",
   "metadata": {},
   "source": [
    "# Freeze the base models"
   ]
  },
  {
   "cell_type": "code",
   "execution_count": 8,
   "metadata": {},
   "outputs": [],
   "source": [
    "inception_model.trainable = False\n",
    "resnet_model.trainable = False"
   ]
  },
  {
   "cell_type": "markdown",
   "metadata": {},
   "source": [
    "# Defining the fully-connected classifier\n",
    "to be defined the structure of the fully connected NN on top of the convolutional pre-trained model"
   ]
  },
  {
   "cell_type": "code",
   "execution_count": 9,
   "metadata": {},
   "outputs": [],
   "source": [
    "from keras.layers import Dense, GlobalAveragePooling2D\n",
    "from keras.models import Model\n",
    "from keras.layers.experimental.preprocessing import RandomFlip, RandomRotation, Rescaling\n",
    "\n",
    "inputs = tf.keras.Input(shape = (224, 224, 3))\n",
    "x_resnet = Rescaling(scale = 1./127.5, offset = -1)(inputs)\n",
    "x_inception = Rescaling(scale = 1./127.5, offset = -1)(inputs)"
   ]
  },
  {
   "cell_type": "code",
   "execution_count": 10,
   "metadata": {},
   "outputs": [],
   "source": [
    "x_resnet = resnet_model(x_resnet, training = False)\n",
    "x_inception = inception_model(x_inception, training = False)"
   ]
  },
  {
   "cell_type": "code",
   "execution_count": 11,
   "metadata": {},
   "outputs": [],
   "source": [
    "x_resnet = tf.keras.layers.GlobalAveragePooling2D()(x_resnet)\n",
    "x_inception = tf.keras.layers.GlobalAveragePooling2D()(x_inception)"
   ]
  },
  {
   "cell_type": "code",
   "execution_count": 12,
   "metadata": {},
   "outputs": [],
   "source": [
    "outputs_resnet = tf.keras.layers.Dense(1, activation ='sigmoid')(x_resnet)\n",
    "outputs_inception = tf.keras.layers.Dense(1, activation ='sigmoid')(x_inception)"
   ]
  },
  {
   "cell_type": "code",
   "execution_count": 13,
   "metadata": {},
   "outputs": [],
   "source": [
    "resnet_model_final = tf.keras.Model(inputs, outputs_resnet)\n",
    "inception_model_final = tf.keras.Model(inputs, outputs_inception)"
   ]
  },
  {
   "cell_type": "markdown",
   "metadata": {},
   "source": [
    "# Display the 2 models structure\n",
    "check the trainability and the layer structure of the 2 built CNN models"
   ]
  },
  {
   "cell_type": "code",
   "execution_count": 14,
   "metadata": {},
   "outputs": [
    {
     "name": "stdout",
     "output_type": "stream",
     "text": [
      "Model: \"model\"\n",
      "____________________________________________________________________________\n",
      " Layer (type)                Output Shape              Param #   Trainable  \n",
      "============================================================================\n",
      " input_3 (InputLayer)        [(None, 224, 224, 3)]     0         Y          \n",
      "                                                                            \n",
      " rescaling (Rescaling)       (None, 224, 224, 3)       0         Y          \n",
      "                                                                            \n",
      " resnet50 (Functional)       (None, 7, 7, 2048)        2358771   N          \n",
      "                                                       2                    \n",
      "                                                                            \n",
      " global_average_pooling2d (  (None, 2048)              0         Y          \n",
      " GlobalAveragePooling2D)                                                    \n",
      "                                                                            \n",
      " dense (Dense)               (None, 1)                 2049      Y          \n",
      "                                                                            \n",
      "============================================================================\n",
      "Total params: 23589761 (89.99 MB)\n",
      "Trainable params: 2049 (8.00 KB)\n",
      "Non-trainable params: 23587712 (89.98 MB)\n",
      "____________________________________________________________________________\n"
     ]
    }
   ],
   "source": [
    "resnet_model_final.summary(show_trainable=True)"
   ]
  },
  {
   "cell_type": "code",
   "execution_count": 15,
   "metadata": {},
   "outputs": [
    {
     "name": "stdout",
     "output_type": "stream",
     "text": [
      "Model: \"model_1\"\n",
      "____________________________________________________________________________\n",
      " Layer (type)                Output Shape              Param #   Trainable  \n",
      "============================================================================\n",
      " input_3 (InputLayer)        [(None, 224, 224, 3)]     0         Y          \n",
      "                                                                            \n",
      " rescaling_1 (Rescaling)     (None, 224, 224, 3)       0         Y          \n",
      "                                                                            \n",
      " inception_v3 (Functional)   (None, 5, 5, 2048)        2180278   N          \n",
      "                                                       4                    \n",
      "                                                                            \n",
      " global_average_pooling2d_1  (None, 2048)              0         Y          \n",
      "  (GlobalAveragePooling2D)                                                  \n",
      "                                                                            \n",
      " dense_1 (Dense)             (None, 1)                 2049      Y          \n",
      "                                                                            \n",
      "============================================================================\n",
      "Total params: 21804833 (83.18 MB)\n",
      "Trainable params: 2049 (8.00 KB)\n",
      "Non-trainable params: 21802784 (83.17 MB)\n",
      "____________________________________________________________________________\n"
     ]
    }
   ],
   "source": [
    "inception_model_final.summary(show_trainable=True)"
   ]
  },
  {
   "cell_type": "markdown",
   "metadata": {},
   "source": [
    "# Train ResNet model\n",
    "compile and train with adam optimizer and banary cross entropy loss function. 20 epochs defined with early exit"
   ]
  },
  {
   "cell_type": "code",
   "execution_count": 16,
   "metadata": {},
   "outputs": [
    {
     "name": "stdout",
     "output_type": "stream",
     "text": [
      "WARNING:tensorflow:From C:\\Users\\diabomba\\anaconda3\\envs\\ETH_CAS_AIS_2024\\Lib\\site-packages\\keras\\src\\optimizers\\__init__.py:309: The name tf.train.Optimizer is deprecated. Please use tf.compat.v1.train.Optimizer instead.\n",
      "\n",
      "Epoch 1/20\n",
      "WARNING:tensorflow:From C:\\Users\\diabomba\\anaconda3\\envs\\ETH_CAS_AIS_2024\\Lib\\site-packages\\keras\\src\\utils\\tf_utils.py:492: The name tf.ragged.RaggedTensorValue is deprecated. Please use tf.compat.v1.ragged.RaggedTensorValue instead.\n",
      "\n",
      "WARNING:tensorflow:From C:\\Users\\diabomba\\anaconda3\\envs\\ETH_CAS_AIS_2024\\Lib\\site-packages\\keras\\src\\engine\\base_layer_utils.py:384: The name tf.executing_eagerly_outside_functions is deprecated. Please use tf.compat.v1.executing_eagerly_outside_functions instead.\n",
      "\n",
      "44/44 [==============================] - 90s 2s/step - loss: 0.6767 - accuracy: 0.5529 - val_loss: 0.6497 - val_accuracy: 0.6167\n",
      "Epoch 2/20\n",
      "44/44 [==============================] - 93s 2s/step - loss: 0.6496 - accuracy: 0.6107 - val_loss: 0.6292 - val_accuracy: 0.6500\n",
      "Epoch 3/20\n",
      "44/44 [==============================] - 99s 2s/step - loss: 0.6368 - accuracy: 0.6364 - val_loss: 0.6246 - val_accuracy: 0.6667\n",
      "Epoch 4/20\n",
      "44/44 [==============================] - 98s 2s/step - loss: 0.6320 - accuracy: 0.6529 - val_loss: 0.6246 - val_accuracy: 0.6533\n",
      "Epoch 5/20\n",
      "44/44 [==============================] - 95s 2s/step - loss: 0.6288 - accuracy: 0.6607 - val_loss: 0.6180 - val_accuracy: 0.6767\n",
      "Epoch 6/20\n",
      "44/44 [==============================] - 93s 2s/step - loss: 0.6235 - accuracy: 0.6643 - val_loss: 0.6163 - val_accuracy: 0.6633\n",
      "Epoch 7/20\n",
      "44/44 [==============================] - 92s 2s/step - loss: 0.6170 - accuracy: 0.6679 - val_loss: 0.6118 - val_accuracy: 0.6700\n",
      "Epoch 8/20\n",
      "44/44 [==============================] - 93s 2s/step - loss: 0.6159 - accuracy: 0.6750 - val_loss: 0.6171 - val_accuracy: 0.6500\n",
      "Epoch 9/20\n",
      "44/44 [==============================] - 93s 2s/step - loss: 0.6094 - accuracy: 0.6836 - val_loss: 0.6237 - val_accuracy: 0.6467\n",
      "Epoch 10/20\n",
      "44/44 [==============================] - 89s 2s/step - loss: 0.6178 - accuracy: 0.6600 - val_loss: 0.6116 - val_accuracy: 0.6800\n"
     ]
    }
   ],
   "source": [
    "from tensorflow.keras.callbacks import EarlyStopping\n",
    "\n",
    "earlyStopping = EarlyStopping(monitor='val_loss', min_delta=0.001, patience=3)\n",
    "\n",
    "resnet_model_final.compile(optimizer= 'adam',\n",
    "              loss=tf.keras.losses.BinaryCrossentropy(from_logits= False),\n",
    "              metrics=['accuracy'])\n",
    "history_resnet = resnet_model_final.fit(train_dataset,\n",
    "                    epochs = 20,\n",
    "                    callbacks=[earlyStopping],\n",
    "                    validation_data=validation_dataset)"
   ]
  },
  {
   "cell_type": "markdown",
   "metadata": {},
   "source": [
    "# evaluation on validation data set"
   ]
  },
  {
   "cell_type": "code",
   "execution_count": 17,
   "metadata": {},
   "outputs": [
    {
     "name": "stdout",
     "output_type": "stream",
     "text": [
      "10/10 [==============================] - 16s 2s/step - loss: 0.6116 - accuracy: 0.6800\n"
     ]
    }
   ],
   "source": [
    "model_evaluation = resnet_model_final.evaluate(validation_dataset)"
   ]
  },
  {
   "cell_type": "markdown",
   "metadata": {},
   "source": [
    "# evaluation on train data set"
   ]
  },
  {
   "cell_type": "code",
   "execution_count": 18,
   "metadata": {},
   "outputs": [
    {
     "name": "stdout",
     "output_type": "stream",
     "text": [
      "44/44 [==============================] - 75s 2s/step - loss: 0.6110 - accuracy: 0.6629\n"
     ]
    }
   ],
   "source": [
    "model_evaluation = resnet_model_final.evaluate(train_dataset)"
   ]
  },
  {
   "cell_type": "markdown",
   "metadata": {},
   "source": [
    "# Graphs - loss"
   ]
  },
  {
   "cell_type": "code",
   "execution_count": 19,
   "metadata": {},
   "outputs": [
    {
     "data": {
      "text/plain": [
       "<matplotlib.legend.Legend at 0x21386b7e410>"
      ]
     },
     "execution_count": 19,
     "metadata": {},
     "output_type": "execute_result"
    },
    {
     "data": {
      "image/png": "[encoded data removed]",
      "text/plain": [
       "<Figure size 600x400 with 1 Axes>"
      ]
     },
     "metadata": {},
     "output_type": "display_data"
    }
   ],
   "source": [
    "import matplotlib.pyplot as plt\n",
    "\n",
    "loss_resnet = history_resnet.history['loss']\n",
    "val_loss_resnet = history_resnet.history['val_loss']\n",
    "\n",
    "plt.figure(figsize=(6, 4))\n",
    "plt.plot(history_resnet.history['loss'], label='loss')\n",
    "plt.plot(history_resnet.history['val_loss'], label='val_Loss')\n",
    "plt.title('Loss')\n",
    "plt.legend()"
   ]
  },
  {
   "cell_type": "markdown",
   "metadata": {},
   "source": [
    "# Train Inception model\n",
    "same parameters as for the ResNet"
   ]
  },
  {
   "cell_type": "code",
   "execution_count": 20,
   "metadata": {},
   "outputs": [
    {
     "name": "stdout",
     "output_type": "stream",
     "text": [
      "Epoch 1/20\n",
      "44/44 [==============================] - 43s 852ms/step - loss: 0.2427 - accuracy: 0.9214 - val_loss: 0.0791 - val_accuracy: 0.9867\n",
      "Epoch 2/20\n",
      "44/44 [==============================] - 36s 826ms/step - loss: 0.0678 - accuracy: 0.9850 - val_loss: 0.0548 - val_accuracy: 0.9833\n",
      "Epoch 3/20\n",
      "44/44 [==============================] - 36s 813ms/step - loss: 0.0470 - accuracy: 0.9864 - val_loss: 0.0459 - val_accuracy: 0.9833\n",
      "Epoch 4/20\n",
      "44/44 [==============================] - 35s 806ms/step - loss: 0.0365 - accuracy: 0.9914 - val_loss: 0.0413 - val_accuracy: 0.9867\n",
      "Epoch 5/20\n",
      "44/44 [==============================] - 36s 819ms/step - loss: 0.0281 - accuracy: 0.9929 - val_loss: 0.0391 - val_accuracy: 0.9867\n",
      "Epoch 6/20\n",
      "44/44 [==============================] - 36s 822ms/step - loss: 0.0225 - accuracy: 0.9943 - val_loss: 0.0406 - val_accuracy: 0.9833\n",
      "Epoch 7/20\n",
      "44/44 [==============================] - 39s 878ms/step - loss: 0.0196 - accuracy: 0.9964 - val_loss: 0.0369 - val_accuracy: 0.9867\n",
      "Epoch 8/20\n",
      "44/44 [==============================] - 36s 829ms/step - loss: 0.0166 - accuracy: 0.9979 - val_loss: 0.0350 - val_accuracy: 0.9900\n",
      "Epoch 9/20\n",
      "44/44 [==============================] - 36s 827ms/step - loss: 0.0146 - accuracy: 0.9979 - val_loss: 0.0351 - val_accuracy: 0.9900\n",
      "Epoch 10/20\n",
      "44/44 [==============================] - 37s 834ms/step - loss: 0.0119 - accuracy: 0.9979 - val_loss: 0.0349 - val_accuracy: 0.9900\n",
      "Epoch 11/20\n",
      "44/44 [==============================] - 37s 842ms/step - loss: 0.0101 - accuracy: 1.0000 - val_loss: 0.0344 - val_accuracy: 0.9867\n"
     ]
    }
   ],
   "source": [
    "from tensorflow.keras.callbacks import EarlyStopping\n",
    "\n",
    "earlyStopping = EarlyStopping(monitor='val_loss', min_delta=0.001, patience=3)\n",
    "\n",
    "inception_model_final.compile(optimizer= 'adam',\n",
    "              loss=tf.keras.losses.BinaryCrossentropy(from_logits= False),\n",
    "              metrics=['accuracy'])\n",
    "history_inception = inception_model_final.fit(train_dataset,\n",
    "                    epochs = 20,\n",
    "                    callbacks=[earlyStopping],\n",
    "                    validation_data=validation_dataset)"
   ]
  },
  {
   "cell_type": "markdown",
   "metadata": {},
   "source": [
    "# evaluate with validation data set"
   ]
  },
  {
   "cell_type": "code",
   "execution_count": 21,
   "metadata": {},
   "outputs": [
    {
     "name": "stdout",
     "output_type": "stream",
     "text": [
      "10/10 [==============================] - 6s 602ms/step - loss: 0.0344 - accuracy: 0.9867\n"
     ]
    }
   ],
   "source": [
    "model_evaluation = inception_model_final.evaluate(validation_dataset)"
   ]
  },
  {
   "cell_type": "markdown",
   "metadata": {},
   "source": [
    "# evaluate with train data set"
   ]
  },
  {
   "cell_type": "code",
   "execution_count": 22,
   "metadata": {},
   "outputs": [
    {
     "name": "stdout",
     "output_type": "stream",
     "text": [
      "44/44 [==============================] - 29s 645ms/step - loss: 0.0091 - accuracy: 1.0000\n"
     ]
    }
   ],
   "source": [
    "model_evaluation = inception_model_final.evaluate(train_dataset)"
   ]
  },
  {
   "cell_type": "markdown",
   "metadata": {},
   "source": [
    "# Graph - loss"
   ]
  },
  {
   "cell_type": "code",
   "execution_count": 23,
   "metadata": {},
   "outputs": [
    {
     "data": {
      "text/plain": [
       "<matplotlib.legend.Legend at 0x21393e6e410>"
      ]
     },
     "execution_count": 23,
     "metadata": {},
     "output_type": "execute_result"
    },
    {
     "data": {
      "image/png": "[encoded data removed]",
      "text/plain": [
       "<Figure size 600x400 with 1 Axes>"
      ]
     },
     "metadata": {},
     "output_type": "display_data"
    }
   ],
   "source": [
    "loss_inception = history_inception.history['loss']\n",
    "val_loss_inception = history_inception.history['val_loss']\n",
    "\n",
    "plt.figure(figsize=(6, 4))\n",
    "plt.plot(history_inception.history['loss'], label='loss')\n",
    "plt.plot(history_inception.history['val_loss'], label='val_Loss')\n",
    "plt.title('Loss')\n",
    "plt.legend()"
   ]
  },
  {
   "cell_type": "markdown",
   "metadata": {},
   "source": [
    "# Section 3\n",
    "unfreze the CNN pre-trained model"
   ]
  },
  {
   "cell_type": "code",
   "execution_count": 24,
   "metadata": {},
   "outputs": [],
   "source": [
    "inception_model.trainable = True\n",
    "resnet_model.trainable = True"
   ]
  },
  {
   "cell_type": "markdown",
   "metadata": {},
   "source": [
    "# Check layers numbers"
   ]
  },
  {
   "cell_type": "code",
   "execution_count": 25,
   "metadata": {},
   "outputs": [
    {
     "data": {
      "text/plain": [
       "311"
      ]
     },
     "execution_count": 25,
     "metadata": {},
     "output_type": "execute_result"
    }
   ],
   "source": [
    "len(inception_model.layers)"
   ]
  },
  {
   "cell_type": "code",
   "execution_count": 26,
   "metadata": {},
   "outputs": [
    {
     "data": {
      "text/plain": [
       "175"
      ]
     },
     "execution_count": 26,
     "metadata": {},
     "output_type": "execute_result"
    }
   ],
   "source": [
    "len(resnet_model.layers)"
   ]
  },
  {
   "cell_type": "markdown",
   "metadata": {},
   "source": [
    " # Freezing only a portion of layers"
   ]
  },
  {
   "cell_type": "code",
   "execution_count": 27,
   "metadata": {},
   "outputs": [],
   "source": [
    "inception_tune = 250\n",
    "resnet_tune = 150"
   ]
  },
  {
   "cell_type": "code",
   "execution_count": 28,
   "metadata": {},
   "outputs": [],
   "source": [
    "for layer in inception_model.layers[0:inception_tune]:\n",
    "  layer.trainable = False\n",
    "\n",
    "for layer in resnet_model.layers[0:resnet_tune]:\n",
    "  layer.trainable = False"
   ]
  },
  {
   "cell_type": "markdown",
   "metadata": {},
   "source": [
    "# Recompiling the model"
   ]
  },
  {
   "cell_type": "code",
   "execution_count": 29,
   "metadata": {},
   "outputs": [],
   "source": [
    "inception_model_final.compile(optimizer= 'adam',\n",
    "              loss=tf.keras.losses.BinaryCrossentropy(from_logits= False),\n",
    "              metrics=['accuracy'])"
   ]
  },
  {
   "cell_type": "code",
   "execution_count": 30,
   "metadata": {},
   "outputs": [],
   "source": [
    "resnet_model_final.compile(optimizer= 'adam',\n",
    "              loss=tf.keras.losses.BinaryCrossentropy(from_logits= False),\n",
    "              metrics=['accuracy'])"
   ]
  },
  {
   "cell_type": "markdown",
   "metadata": {},
   "source": [
    "# Resume training - inception model\n",
    "from previous epochs work further"
   ]
  },
  {
   "cell_type": "code",
   "execution_count": 31,
   "metadata": {},
   "outputs": [
    {
     "name": "stdout",
     "output_type": "stream",
     "text": [
      "Epoch 1/30\n",
      "44/44 [==============================] - 51s 1s/step - loss: 1.1910 - accuracy: 0.9450 - val_loss: 0.1509 - val_accuracy: 0.9733\n",
      "Epoch 2/30\n",
      "44/44 [==============================] - 43s 987ms/step - loss: 0.0450 - accuracy: 0.9850 - val_loss: 0.0135 - val_accuracy: 0.9933\n",
      "Epoch 3/30\n",
      "44/44 [==============================] - 43s 989ms/step - loss: 0.0220 - accuracy: 0.9914 - val_loss: 0.0116 - val_accuracy: 0.9933\n",
      "Epoch 4/30\n",
      "44/44 [==============================] - 43s 978ms/step - loss: 0.0348 - accuracy: 0.9921 - val_loss: 0.0230 - val_accuracy: 0.9900\n",
      "Epoch 5/30\n",
      "44/44 [==============================] - 43s 979ms/step - loss: 0.0492 - accuracy: 0.9950 - val_loss: 0.4072 - val_accuracy: 0.9667\n",
      "Epoch 6/30\n",
      "44/44 [==============================] - 43s 989ms/step - loss: 0.0896 - accuracy: 0.9779 - val_loss: 0.0620 - val_accuracy: 0.9867\n"
     ]
    }
   ],
   "source": [
    "history_inception_final = inception_model_final.fit(train_dataset,\n",
    "                    epochs = 30,\n",
    "                    callbacks=[earlyStopping],\n",
    "                    validation_data=validation_dataset)"
   ]
  },
  {
   "cell_type": "code",
   "execution_count": 32,
   "metadata": {},
   "outputs": [
    {
     "name": "stdout",
     "output_type": "stream",
     "text": [
      "10/10 [==============================] - 6s 576ms/step - loss: 0.0620 - accuracy: 0.9867\n"
     ]
    }
   ],
   "source": [
    "model_evaluation = inception_model_final.evaluate(validation_dataset)"
   ]
  },
  {
   "cell_type": "code",
   "execution_count": 33,
   "metadata": {},
   "outputs": [
    {
     "name": "stdout",
     "output_type": "stream",
     "text": [
      "44/44 [==============================] - 28s 627ms/step - loss: 0.0457 - accuracy: 0.9900\n"
     ]
    }
   ],
   "source": [
    "model_evaluation = inception_model_final.evaluate(train_dataset)"
   ]
  },
  {
   "cell_type": "markdown",
   "metadata": {},
   "source": [
    "# Visualize the loss value\n",
    "sum of losses"
   ]
  },
  {
   "cell_type": "code",
   "execution_count": 34,
   "metadata": {},
   "outputs": [],
   "source": [
    "loss_inception += history_inception_final.history['loss']\n",
    "val_loss_inception += history_inception_final.history['val_loss']"
   ]
  },
  {
   "cell_type": "code",
   "execution_count": 37,
   "metadata": {},
   "outputs": [
    {
     "data": {
      "image/png": "[encoded data removed]",
      "text/plain": [
       "<Figure size 640x480 with 1 Axes>"
      ]
     },
     "metadata": {},
     "output_type": "display_data"
    }
   ],
   "source": [
    "plt.subplot(2, 1, 2)\n",
    "plt.plot(loss_inception, label='Training Loss')\n",
    "plt.plot(val_loss_inception, label='Validation Loss')\n",
    "plt.ylim([0, 1.0])\n",
    "plt.plot([10,10],\n",
    "         plt.ylim(), label='Start Fine Tuning')\n",
    "plt.legend(loc='upper right')\n",
    "plt.title('Training and Validation Loss')\n",
    "plt.xlabel('epoch')\n",
    "plt.show()"
   ]
  },
  {
   "cell_type": "markdown",
   "metadata": {},
   "source": [
    "# Make predictions\n",
    "evaluate predictive ability of the inception model"
   ]
  },
  {
   "cell_type": "code",
   "execution_count": 39,
   "metadata": {},
   "outputs": [],
   "source": [
    "images, labels = validation_dataset.as_numpy_iterator().next()\n",
    "predictions = inception_model_final.predict_on_batch(images).flatten()"
   ]
  },
  {
   "cell_type": "code",
   "execution_count": 40,
   "metadata": {},
   "outputs": [
    {
     "name": "stdout",
     "output_type": "stream",
     "text": [
      "Predictions:\n",
      " [1 1 1 1 1 1 1 1 1 1 1 1 1 1 1 1 1 1 1 1 1 1 1 1 1 1 1 1 1 1 1 1]\n",
      "Labels:\n",
      " [1 0 1 0 0 0 1 1 1 1 1 0 1 0 0 1 0 0 0 1 0 1 1 0 1 0 0 0 1 0 0 0]\n"
     ]
    }
   ],
   "source": [
    "predictions = tf.nn.sigmoid(predictions)\n",
    "predictions = tf.where(predictions < 0.5, 0, 1)\n",
    "\n",
    "print('Predictions:\\n', predictions.numpy())\n",
    "print('Labels:\\n', labels)"
   ]
  },
  {
   "cell_type": "markdown",
   "metadata": {},
   "source": [
    "# Resume training - resnet model"
   ]
  },
  {
   "cell_type": "code",
   "execution_count": 42,
   "metadata": {},
   "outputs": [
    {
     "name": "stdout",
     "output_type": "stream",
     "text": [
      "Epoch 1/30\n",
      "44/44 [==============================] - 102s 2s/step - loss: 0.6871 - accuracy: 0.5514 - val_loss: 0.6679 - val_accuracy: 0.5833\n",
      "Epoch 2/30\n",
      "44/44 [==============================] - 97s 2s/step - loss: 0.6313 - accuracy: 0.6521 - val_loss: 0.6024 - val_accuracy: 0.6633\n",
      "Epoch 3/30\n",
      "44/44 [==============================] - 97s 2s/step - loss: 0.6492 - accuracy: 0.6236 - val_loss: 0.6405 - val_accuracy: 0.6300\n",
      "Epoch 4/30\n",
      "44/44 [==============================] - 101s 2s/step - loss: 0.6199 - accuracy: 0.6429 - val_loss: 0.5925 - val_accuracy: 0.6633\n",
      "Epoch 5/30\n",
      "44/44 [==============================] - 97s 2s/step - loss: 0.5991 - accuracy: 0.6757 - val_loss: 0.6039 - val_accuracy: 0.6633\n",
      "Epoch 6/30\n",
      "44/44 [==============================] - 97s 2s/step - loss: 0.6051 - accuracy: 0.6757 - val_loss: 0.5865 - val_accuracy: 0.7100\n",
      "Epoch 7/30\n",
      "44/44 [==============================] - 97s 2s/step - loss: 0.5781 - accuracy: 0.7107 - val_loss: 0.5650 - val_accuracy: 0.7000\n",
      "Epoch 8/30\n",
      "44/44 [==============================] - 97s 2s/step - loss: 0.5520 - accuracy: 0.7186 - val_loss: 0.5755 - val_accuracy: 0.7167\n",
      "Epoch 9/30\n",
      "44/44 [==============================] - 97s 2s/step - loss: 0.5452 - accuracy: 0.7221 - val_loss: 0.5619 - val_accuracy: 0.7200\n",
      "Epoch 10/30\n",
      "44/44 [==============================] - 97s 2s/step - loss: 0.5291 - accuracy: 0.7364 - val_loss: 0.6117 - val_accuracy: 0.6933\n",
      "Epoch 11/30\n",
      "44/44 [==============================] - 1000s 23s/step - loss: 0.5680 - accuracy: 0.6929 - val_loss: 0.5833 - val_accuracy: 0.7067\n",
      "Epoch 12/30\n",
      "44/44 [==============================] - 92s 2s/step - loss: 0.5163 - accuracy: 0.7421 - val_loss: 0.5265 - val_accuracy: 0.7300\n",
      "Epoch 13/30\n",
      "44/44 [==============================] - 93s 2s/step - loss: 0.5210 - accuracy: 0.7450 - val_loss: 0.5354 - val_accuracy: 0.7467\n",
      "Epoch 14/30\n",
      "44/44 [==============================] - 97s 2s/step - loss: 0.4983 - accuracy: 0.7621 - val_loss: 0.5188 - val_accuracy: 0.7600\n",
      "Epoch 15/30\n",
      "44/44 [==============================] - 97s 2s/step - loss: 0.4877 - accuracy: 0.7636 - val_loss: 0.5250 - val_accuracy: 0.7567\n",
      "Epoch 16/30\n",
      "44/44 [==============================] - 102s 2s/step - loss: 0.5131 - accuracy: 0.7550 - val_loss: 0.5068 - val_accuracy: 0.7600\n",
      "Epoch 17/30\n",
      "44/44 [==============================] - 108s 2s/step - loss: 0.6010 - accuracy: 0.6971 - val_loss: 0.5313 - val_accuracy: 0.7433\n",
      "Epoch 18/30\n",
      "44/44 [==============================] - 100s 2s/step - loss: 0.5111 - accuracy: 0.7564 - val_loss: 0.5129 - val_accuracy: 0.7467\n",
      "Epoch 19/30\n",
      "44/44 [==============================] - 101s 2s/step - loss: 0.4744 - accuracy: 0.7743 - val_loss: 0.5035 - val_accuracy: 0.7800\n",
      "Epoch 20/30\n",
      "44/44 [==============================] - 108s 2s/step - loss: 0.4822 - accuracy: 0.7621 - val_loss: 0.5143 - val_accuracy: 0.7267\n",
      "Epoch 21/30\n",
      "44/44 [==============================] - 101s 2s/step - loss: 0.4964 - accuracy: 0.7621 - val_loss: 0.5335 - val_accuracy: 0.7367\n",
      "Epoch 22/30\n",
      "44/44 [==============================] - 102s 2s/step - loss: 0.4636 - accuracy: 0.7814 - val_loss: 0.4931 - val_accuracy: 0.7867\n",
      "Epoch 23/30\n",
      "44/44 [==============================] - 517s 12s/step - loss: 0.4685 - accuracy: 0.7729 - val_loss: 0.6110 - val_accuracy: 0.6733\n",
      "Epoch 24/30\n",
      "44/44 [==============================] - 103s 2s/step - loss: 0.4462 - accuracy: 0.7929 - val_loss: 0.5012 - val_accuracy: 0.7533\n",
      "Epoch 25/30\n",
      "44/44 [==============================] - 104s 2s/step - loss: 0.4489 - accuracy: 0.7929 - val_loss: 0.5570 - val_accuracy: 0.7200\n"
     ]
    }
   ],
   "source": [
    "history_resnet_final = resnet_model_final.fit(train_dataset,\n",
    "                    epochs = 30,\n",
    "                    callbacks=[earlyStopping],\n",
    "                    validation_data=validation_dataset)"
   ]
  },
  {
   "cell_type": "code",
   "execution_count": 43,
   "metadata": {},
   "outputs": [
    {
     "name": "stdout",
     "output_type": "stream",
     "text": [
      "10/10 [==============================] - 16s 1s/step - loss: 0.5570 - accuracy: 0.7200\n"
     ]
    }
   ],
   "source": [
    "model_evaluation = resnet_model_final.evaluate(validation_dataset)"
   ]
  },
  {
   "cell_type": "code",
   "execution_count": 44,
   "metadata": {},
   "outputs": [
    {
     "name": "stdout",
     "output_type": "stream",
     "text": [
      "44/44 [==============================] - 69s 2s/step - loss: 0.4685 - accuracy: 0.7579\n"
     ]
    }
   ],
   "source": [
    "model_evaluation = resnet_model_final.evaluate(train_dataset)"
   ]
  },
  {
   "cell_type": "markdown",
   "metadata": {},
   "source": [
    "# Visualize the loss value"
   ]
  },
  {
   "cell_type": "code",
   "execution_count": 45,
   "metadata": {},
   "outputs": [],
   "source": [
    "loss_resnet += history_resnet_final.history['loss']\n",
    "val_loss_resnet += history_resnet_final.history['val_loss']"
   ]
  },
  {
   "cell_type": "code",
   "execution_count": 46,
   "metadata": {},
   "outputs": [
    {
     "data": {
      "image/png": "[encoded data removed]",
      "text/plain": [
       "<Figure size 640x480 with 1 Axes>"
      ]
     },
     "metadata": {},
     "output_type": "display_data"
    }
   ],
   "source": [
    "plt.subplot(2, 1, 2)\n",
    "plt.plot(loss_resnet, label='Training Loss')\n",
    "plt.plot(val_loss_resnet, label='Validation Loss')\n",
    "plt.ylim([0, 1.0])\n",
    "plt.plot([10,10],\n",
    "         plt.ylim(), label='Start Fine Tuning')\n",
    "plt.legend(loc='upper right')\n",
    "plt.title('Training and Validation Loss')\n",
    "plt.xlabel('epoch')\n",
    "plt.show()"
   ]
  },
  {
   "cell_type": "markdown",
   "metadata": {},
   "source": [
    "# Make predictions"
   ]
  },
  {
   "cell_type": "code",
   "execution_count": 48,
   "metadata": {},
   "outputs": [],
   "source": [
    "images, labels = validation_dataset.as_numpy_iterator().next()\n",
    "predictions_resnet = resnet_model_final.predict_on_batch(images).flatten()"
   ]
  },
  {
   "cell_type": "code",
   "execution_count": 49,
   "metadata": {},
   "outputs": [
    {
     "name": "stdout",
     "output_type": "stream",
     "text": [
      "Predictions:\n",
      " [1 1 1 1 1 1 1 1 1 1 1 1 1 1 1 1 1 1 1 1 1 1 1 1 1 1 1 1 1 1 1 1]\n",
      "Labels:\n",
      " [0 0 1 0 0 0 0 0 1 1 0 1 1 1 0 1 1 1 0 1 0 1 1 1 1 0 1 1 1 0 1 1]\n"
     ]
    }
   ],
   "source": [
    "predictions_resnet = tf.nn.sigmoid(predictions_resnet)\n",
    "predictions_resnet = tf.where(predictions_resnet < 0.5, 0, 1)\n",
    "\n",
    "print('Predictions:\\n', predictions_resnet.numpy())\n",
    "print('Labels:\\n', labels)"
   ]
  },
  {
   "cell_type": "code",
   "execution_count": null,
   "metadata": {},
   "outputs": [],
   "source": []
  }
 ],
 "metadata": {
  "accelerator": "GPU",
  "colab": {
   "gpuType": "T4",
   "provenance": []
  },
  "kernelspec": {
   "display_name": "Python 3 (ipykernel)",
   "language": "python",
   "name": "python3"
  },
  "language_info": {
   "codemirror_mode": {
    "name": "ipython",
    "version": 3
   },
   "file_extension": ".py",
   "mimetype": "text/x-python",
   "name": "python",
   "nbconvert_exporter": "python",
   "pygments_lexer": "ipython3",
   "version": "3.11.5"
  }
 },
 "nbformat": 4,
 "nbformat_minor": 1
}
